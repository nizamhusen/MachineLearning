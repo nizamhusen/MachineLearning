{
  "nbformat": 4,
  "nbformat_minor": 0,
  "metadata": {
    "colab": {
      "provenance": []
    },
    "kernelspec": {
      "name": "python3",
      "display_name": "Python 3"
    },
    "language_info": {
      "name": "python"
    }
  },
  "cells": [
    {
      "cell_type": "code",
      "execution_count": null,
      "metadata": {
        "id": "FlYAGbg1yrts"
      },
      "outputs": [],
      "source": [
        "import numpy as np\n",
        "import pandas as pd\n",
        "import matplotlib.pyplot as plt"
      ]
    },
    {
      "cell_type": "code",
      "source": [
        "url=\"https://archive.ics.uci.edu/ml/machine-learning-databases/wine/wine.data\""
      ],
      "metadata": {
        "id": "aKnRL-LNz3_o"
      },
      "execution_count": null,
      "outputs": []
    },
    {
      "cell_type": "code",
      "source": [
        "data = pd.read_csv(\"https://raw.githubusercontent.com/vkavitha19/MachineLearning/main/datasets/wine.csv\")"
      ],
      "metadata": {
        "id": "I7PlkBkTz6rP"
      },
      "execution_count": null,
      "outputs": []
    },
    {
      "cell_type": "code",
      "source": [
        "X=data.iloc[:,1:].values\n",
        "y=data.iloc[:,0]"
      ],
      "metadata": {
        "id": "epvUXYck1lf4"
      },
      "execution_count": null,
      "outputs": []
    },
    {
      "cell_type": "code",
      "source": [
        "from sklearn.model_selection import train_test_split\n",
        "X_train,X_test,y_train,y_test=train_test_split(X,y,test_size=0.3,random_state=2)"
      ],
      "metadata": {
        "id": "nnpqaU8p2Voe"
      },
      "execution_count": null,
      "outputs": []
    },
    {
      "cell_type": "code",
      "source": [
        "from sklearn.ensemble import RandomForestClassifier\n",
        "rf=RandomForestClassifier(n_estimators=100)\n",
        "rf.fit(X_train,y_train)\n",
        "y_pred=rf.predict(X_test)"
      ],
      "metadata": {
        "id": "BblWXdHf1-w_"
      },
      "execution_count": null,
      "outputs": []
    },
    {
      "cell_type": "code",
      "source": [
        "from sklearn.metrics import accuracy_score\n",
        "accurcy=accuracy_score(y_test,y_pred)\n",
        "print(accurcy)"
      ],
      "metadata": {
        "colab": {
          "base_uri": "https://localhost:8080/"
        },
        "id": "kTS1JIgx3FGW",
        "outputId": "beee92df-990f-43c2-d9d9-55d1aeb7a8f7"
      },
      "execution_count": null,
      "outputs": [
        {
          "output_type": "stream",
          "name": "stdout",
          "text": [
            "1.0\n"
          ]
        }
      ]
    }
  ]
}