{
  "nbformat": 4,
  "nbformat_minor": 0,
  "metadata": {
    "colab": {
      "provenance": []
    },
    "kernelspec": {
      "name": "python3",
      "display_name": "Python 3"
    },
    "language_info": {
      "name": "python"
    }
  },
  "cells": [
    {
      "cell_type": "code",
      "execution_count": null,
      "metadata": {
        "id": "WpuOWguF6LSL"
      },
      "outputs": [],
      "source": [
        "import numpy as np\n",
        "import pandas as pd\n",
        "import matplotlib.pyplot as plt"
      ]
    },
    {
      "cell_type": "code",
      "source": [
        "data = pd.read_csv(\"https://raw.githubusercontent.com/vkavitha19/MachineLearning/main/datasets/wine.csv\")"
      ],
      "metadata": {
        "id": "Qc9K9ROk6OS1"
      },
      "execution_count": null,
      "outputs": []
    },
    {
      "cell_type": "code",
      "source": [
        "X=data.iloc[:,1:].values\n",
        "y=data.iloc[:,0]"
      ],
      "metadata": {
        "id": "0-1WC28i6Q3k"
      },
      "execution_count": null,
      "outputs": []
    },
    {
      "cell_type": "code",
      "source": [
        "from sklearn.model_selection import train_test_split\n",
        "X_train,X_test,y_train,y_test=train_test_split(X,y,test_size=0.3,random_state=2)"
      ],
      "metadata": {
        "id": "h0SQMHpn6Uqs"
      },
      "execution_count": null,
      "outputs": []
    },
    {
      "cell_type": "code",
      "source": [
        "from sklearn.ensemble import StackingClassifier\n",
        "from sklearn.ensemble import AdaBoostClassifier\n",
        "from sklearn.ensemble import RandomForestClassifier, GradientBoostingClassifier\n",
        "from sklearn.tree import DecisionTreeClassifier\n",
        "from sklearn.linear_model import LogisticRegression"
      ],
      "metadata": {
        "id": "1kcn4XeW6Xul"
      },
      "execution_count": 2,
      "outputs": []
    },
    {
      "cell_type": "code",
      "source": [
        "base_estimators=[\n",
        "    ('dt',DecisionTreeClassifier()),\n",
        "    ('rf',RandomForestClassifier()),\n",
        "    ('gb',GradientBoostingClassifier())\n",
        "]"
      ],
      "metadata": {
        "id": "L1q8428SBvFb"
      },
      "execution_count": 3,
      "outputs": []
    },
    {
      "cell_type": "code",
      "source": [
        "meta_model=LogisticRegression()"
      ],
      "metadata": {
        "id": "cTASkWDLCGai"
      },
      "execution_count": 4,
      "outputs": []
    },
    {
      "cell_type": "code",
      "source": [
        "stacking=StackingClassifier(estimators=base_estimators,final_estimator=meta_model)\n",
        "stacking.fit(X_train,y_train)\n",
        "y_predict=stacking.predict(X_test)"
      ],
      "metadata": {
        "id": "MlsO48awCLfE"
      },
      "execution_count": 5,
      "outputs": []
    },
    {
      "cell_type": "code",
      "source": [
        "from sklearn.metrics import accuracy_score\n",
        "accurcy=accuracy_score(y_test,y_pred)\n",
        "print(accurcy)"
      ],
      "metadata": {
        "colab": {
          "base_uri": "https://localhost:8080/"
        },
        "id": "P0hRlpsP7ac5",
        "outputId": "82a2cf5c-a84b-4c83-8afd-4a9003164ab8"
      },
      "execution_count": null,
      "outputs": [
        {
          "output_type": "stream",
          "name": "stdout",
          "text": [
            "0.9259259259259259\n"
          ]
        }
      ]
    }
  ]
}